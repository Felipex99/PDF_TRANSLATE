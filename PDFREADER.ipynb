{
  "nbformat": 4,
  "nbformat_minor": 0,
  "metadata": {
    "colab": {
      "provenance": [],
      "authorship_tag": "ABX9TyOWagHjjUfqqNBT4ThBEZgX",
      "include_colab_link": true
    },
    "kernelspec": {
      "name": "python3",
      "display_name": "Python 3"
    },
    "language_info": {
      "name": "python"
    }
  },
  "cells": [
    {
      "cell_type": "markdown",
      "metadata": {
        "id": "view-in-github",
        "colab_type": "text"
      },
      "source": [
        "<a href=\"https://colab.research.google.com/github/Felipex99/PDF_TRANSLATE/blob/main/PDFREADER.ipynb\" target=\"_parent\"><img src=\"https://colab.research.google.com/assets/colab-badge.svg\" alt=\"Open In Colab\"/></a>"
      ]
    },
    {
      "cell_type": "markdown",
      "source": [
        "Abaixo estão as bibliotecas para manipular o pdf, traduzir e decodificar o pdf"
      ],
      "metadata": {
        "id": "780Vh9arN9lL"
      }
    },
    {
      "cell_type": "code",
      "source": [
        "!pip install pdfreader\n",
        "!pip install unidecode\n",
        "!pip install pypdf\n",
        "!pip install translate"
      ],
      "metadata": {
        "id": "S4aJkNg217DH"
      },
      "execution_count": null,
      "outputs": []
    },
    {
      "cell_type": "code",
      "source": [
        "from pypdf import PdfReader\n",
        "from unidecode import unidecode\n",
        "from translate import Translator\n",
        "reader = PdfReader(\"/content/MDA Explained-Model Driven Architecture.pdf\")\n",
        "number_of_pages = len(reader.pages)\n",
        "trans = Translator(to_lang=\"pt\")\n",
        "string_pt = \"\"\n",
        "ini = 0\n",
        "fim = 499\n",
        "qtd_trans = 0\n",
        "resto = 0\n",
        "#SUMÁRIO A PARTIR DA PÁGINA 5\n",
        "page = reader.pages[12]\n",
        "text = unidecode(page.extract_text())\n",
        "while True:\n",
        "  if len(text)>499:\n",
        "    qtd_trans =  int(len(text) / 499)\n",
        "    resto = len(text) % 499\n",
        "    for i in range(qtd_trans):\n",
        "      text_pt = trans.translate(text[ini : fim])\n",
        "      string_pt += text_pt\n",
        "      print(\" LENGTH::string_pt: \",len(string_pt),\" // text_pt: \",len(text_pt))\n",
        "      print(\"ini: \",ini, \" // fim: \",fim)\n",
        "      ini += 499\n",
        "      fim += 499\n",
        "    text_pt = trans.translate(text[ini : fim + resto])\n",
        "    string_pt += text_pt\n",
        "    break\n",
        "print(\"qtd_trans: \",qtd_trans,\" // resto: \",resto)\n",
        "print(len(text))\n",
        "print(string_pt)"
      ],
      "metadata": {
        "colab": {
          "base_uri": "https://localhost:8080/"
        },
        "id": "E6YTjJhRAcdc",
        "outputId": "80a1e173-7c2b-49c6-d66a-7081779ca236"
      },
      "execution_count": 28,
      "outputs": [
        {
          "output_type": "stream",
          "name": "stdout",
          "text": [
            " LENGTH::string_pt:  574  // text_pt:  574\n",
            "ini:  0  // fim:  499\n",
            " LENGTH::string_pt:  1111  // text_pt:  537\n",
            "ini:  499  // fim:  998\n",
            " LENGTH::string_pt:  1629  // text_pt:  518\n",
            "ini:  998  // fim:  1497\n",
            "qtd_trans:  3  // resto:  208\n",
            "1705\n",
            "XII | PREFÁCIO,\n",
            "há uma tendência hoje em dia para técnicas de desenvolvimento que enfatizam a criação de\n",
            "código capaz em vez de \"meros\" designs.\n",
            "Em contraste, a MDA enfatiza fortemente a criação de designs - não designs de papel, mas\n",
            "modelos legíveis por máquina armazenados em repositórios padronizados. O esforço intelectual investido nesses modelos não se limita a sentar-se passivamente na página à espera de ser trabalhado.\n",
            "ousadamente reformulado como código. Em vez disso, os modelos MDA são entendidos por ferramentas automáticas de\n",
            "vários fornecedores que geram schemas, esqueletos de código, chicotes de teste, integração\n",
            "código e scripts de implantação para as várias plataformas usadas em um projeto típico. O esforço de design investido em modelos MDA é repetidamente reutilizado para gerar vários\n",
            "ponents, e por ser atualizado ao longo da vida de uma aplicação, fornece documentação precisa\n",
            "mentação de como o software muito mantido realmente funciona, em vez de uma imagem congelada\n",
            "de como as coisas pareciam no final da fase de design. Em suma, o MDA é uma arquitetura\n",
            "para criar bons designs ino ambiente de TI multiplataforma de hoje.\n",
            "Os autores deste livro estão bem qualificados para descrever e documentar o MDA\n",
            "visão. Eles contribuíram para a criação da OMG de MDA, trabalharam em\n",
            "produtos que o implementam e o usaram na prática. O livro é baseado em teorias sólidas, mas é, no entanto, um manual de praticantes, construído em torno de exemplos do mundo real,\n",
            "e oferecer orientação aos profissionais de TI que enfrentam os problemas sempre presentes de trazer\n",
            "no projeto do próximo ano no prazo e no prazot. O tempo gasto na leitura não será desperdiçado. Lembre-se: quanto mais cedo você começar, mais tempo levará.\n",
            "Andrew Wa t s on\n",
            "OMG Vi ce Presidente & Diretor Técnico\n",
            "35.000 ft. o ver Groenlândia\n",
            "17 de Novembro de 2002\n"
          ]
        }
      ]
    },
    {
      "cell_type": "code",
      "source": [],
      "metadata": {
        "id": "7ibnSRdAGoFb"
      },
      "execution_count": null,
      "outputs": []
    }
  ]
}