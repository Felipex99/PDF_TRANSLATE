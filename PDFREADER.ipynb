{
  "cells": [
    {
      "cell_type": "markdown",
      "metadata": {
        "colab_type": "text",
        "id": "view-in-github"
      },
      "source": [
        "<a href=\"https://colab.research.google.com/github/Felipex99/PDF_TRANSLATE/blob/main/PDFREADER.ipynb\" target=\"_parent\"><img src=\"https://colab.research.google.com/assets/colab-badge.svg\" alt=\"Open In Colab\"/></a>"
      ]
    },
    {
      "cell_type": "markdown",
      "metadata": {
        "id": "780Vh9arN9lL"
      },
      "source": [
        "<h4><b>Abaixo estão as bibliotecas para manipular o pdf, traduzir e decodificar o pdf</b></h4>"
      ]
    },
    {
      "cell_type": "code",
      "execution_count": null,
      "metadata": {
        "id": "S4aJkNg217DH"
      },
      "outputs": [],
      "source": [
        "!pip install pdfreader\n",
        "!pip install unidecode\n",
        "!pip install pypdf\n",
        "!pip install translate"
      ]
    },
    {
      "cell_type": "code",
      "execution_count": 1,
      "metadata": {
        "id": "r3pMRH2USi7U",
        "metadata": {}
      },
      "outputs": [],
      "source": [
        "from pypdf import PdfReader\n",
        "from unidecode import unidecode\n",
        "from translate import Translator"
      ]
    },
    {
      "cell_type": "markdown",
      "metadata": {},
      "source": [
        "<h4><b>NO APLICATIVO FIGMA FOI CRIADO UM DOCUMENTO PDF COM UM TEXTO</b></h4>\n",
        "<img src = \"criandoPdf.jpg\"/>"
      ]
    },
    {
      "cell_type": "markdown",
      "metadata": {
        "id": "FQ9Jwz4tSow8"
      },
      "source": [
        "<h4><b>SELECIONE O SEU ARQUIVO PDF E ARRASTE PARA A PASTA DO COLAB</b></h4>\n",
        "<img src = \"arraste.jpg\"/>"
      ]
    },
    {
      "cell_type": "markdown",
      "metadata": {},
      "source": [
        "<img href>"
      ]
    },
    {
      "cell_type": "markdown",
      "metadata": {
        "id": "bLam6AjDTN3z"
      },
      "source": [
        "<h4><b>EM SEGUIDA DIGITE O NOME DO ARQUIVO PDF NO CAMPO ABAIXO \"arquivo\"</b></h4>"
      ]
    },
    {
      "cell_type": "code",
      "execution_count": 3,
      "metadata": {
        "id": "9XCefp-mSlfE",
        "metadata": {}
      },
      "outputs": [],
      "source": [
        "reader = PdfReader(\"arquivo.pdf\")"
      ]
    },
    {
      "cell_type": "code",
      "execution_count": 4,
      "metadata": {
        "colab": {
          "base_uri": "https://localhost:8080/"
        },
        "id": "E6YTjJhRAcdc",
        "metadata": {},
        "outputId": "80a1e173-7c2b-49c6-d66a-7081779ca236"
      },
      "outputs": [
        {
          "name": "stdout",
          "output_type": "stream",
          "text": [
            "Quantidade de caracteres:  49\n",
            "Olá Mundo!\n",
            "Agora é fácil \n",
            "para traduzir \n",
            "qualquer pdf.\n"
          ]
        }
      ],
      "source": [
        "number_of_pages = len(reader.pages)\n",
        "trans = Translator(to_lang=\"pt\")\n",
        "traducao = \"\"\n",
        "ini = 0\n",
        "fim = 499\n",
        "qtd_trans = 0\n",
        "resto = 0\n",
        "\n",
        "page = reader.pages[0]\n",
        "text = unidecode(page.extract_text())\n",
        "while True:\n",
        "  #CASO A PÁGINA DO PDF TENHA MAIS DE 500 CARACTERES, TEMOS QUE DIVIDIR, POIS A \n",
        "  #BIBLIOTECA SÓ PROCESSA 500 CARACTERES\n",
        "  if len(text)>499:\n",
        "    qtd_trans =  int(len(text) / 499)\n",
        "    resto = len(text) % 499\n",
        "    for i in range(qtd_trans):\n",
        "      text_pt = trans.translate(text[ini : fim])\n",
        "      traducao += text_pt\n",
        "      ini += 499\n",
        "      fim += 499\n",
        "    text_pt = trans.translate(text[ini : fim + resto])\n",
        "    traducao += text_pt\n",
        "    break\n",
        "  #SE NÃO TIVER MAIS QUE 500 CARACTERES, PODE TRADUZIR TUDO DE UMA VEZ\n",
        "  else:\n",
        "    traducao = trans.translate(text)\n",
        "    break\n",
        "print(\"Quantidade de caracteres: \",len(text))\n",
        "print(traducao)"
      ]
    },
    {
      "cell_type": "markdown",
      "metadata": {},
      "source": [
        "<h4><b>RESULTADO<b></h4>\n",
        "<img src = \"traducao.png\"/>"
      ]
    },
    {
      "cell_type": "markdown",
      "metadata": {},
      "source": []
    }
  ],
  "metadata": {
    "colab": {
      "authorship_tag": "ABX9TyPMMy3vEebQ8fxMurjqwltF",
      "include_colab_link": true,
      "provenance": []
    },
    "kernelspec": {
      "display_name": "Python 3",
      "name": "python3"
    },
    "language_info": {
      "codemirror_mode": {
        "name": "ipython",
        "version": 3
      },
      "file_extension": ".py",
      "mimetype": "text/x-python",
      "name": "python",
      "nbconvert_exporter": "python",
      "pygments_lexer": "ipython3",
      "version": "3.11.3"
    }
  },
  "nbformat": 4,
  "nbformat_minor": 0
}
